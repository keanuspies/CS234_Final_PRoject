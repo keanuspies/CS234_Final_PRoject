{
 "cells": [
  {
   "cell_type": "code",
   "execution_count": 405,
   "metadata": {},
   "outputs": [],
   "source": [
    "import pandas as pd\n",
    "import pickle\n",
    "import numpy as np\n",
    "import math\n",
    "from sklearn import linear_model\n",
    "warf = pd.read_pickle('../data/cleaned_warfarin.pkl')\n",
    "\n",
    "true_values = []\n",
    "with open('../data/true_labels.pkl', 'rb') as f:\n",
    "    true_values = pickle.load(f)"
   ]
  },
  {
   "cell_type": "code",
   "execution_count": 406,
   "metadata": {
    "scrolled": true
   },
   "outputs": [
    {
     "data": {
      "text/plain": [
       "5528"
      ]
     },
     "execution_count": 406,
     "metadata": {},
     "output_type": "execute_result"
    }
   ],
   "source": [
    "len(warf)"
   ]
  },
  {
   "cell_type": "code",
   "execution_count": 407,
   "metadata": {},
   "outputs": [
    {
     "data": {
      "text/plain": [
       "94"
      ]
     },
     "execution_count": 407,
     "metadata": {},
     "output_type": "execute_result"
    }
   ],
   "source": [
    "len(list(warf))"
   ]
  },
  {
   "cell_type": "code",
   "execution_count": 408,
   "metadata": {},
   "outputs": [],
   "source": [
    "train_len = math.ceil(len(true_values)*0.8)\n",
    "test_len = len(true_values) - train_len"
   ]
  },
  {
   "cell_type": "code",
   "execution_count": 409,
   "metadata": {},
   "outputs": [
    {
     "data": {
      "text/plain": [
       "1105"
      ]
     },
     "execution_count": 409,
     "metadata": {},
     "output_type": "execute_result"
    }
   ],
   "source": [
    "test_len"
   ]
  },
  {
   "cell_type": "markdown",
   "metadata": {},
   "source": [
    "## Training"
   ]
  },
  {
   "cell_type": "code",
   "execution_count": 410,
   "metadata": {},
   "outputs": [
    {
     "data": {
      "text/plain": [
       "Lasso(alpha=0.0007, copy_X=True, fit_intercept=False, max_iter=1000,\n",
       "   normalize=False, positive=False, precompute=False, random_state=None,\n",
       "   selection='cyclic', tol=0.0001, warm_start=False)"
      ]
     },
     "execution_count": 410,
     "metadata": {},
     "output_type": "execute_result"
    }
   ],
   "source": [
    "clf = linear_model.Lasso(alpha=0.0007, fit_intercept=False)\n",
    "\n",
    "x_values = []\n",
    "true_labels = []\n",
    "indices = np.random.permutation(list(range(len(warf))))\n",
    "for i in indices:\n",
    "    feature = np.array(warf.iloc[i], dtype=float)\n",
    "    x_values.append(feature)\n",
    "    if true_values[i] == \"low\": true_labels.append(0)\n",
    "    elif true_values[i] == \"medium\": true_labels.append(1)\n",
    "    else: true_labels.append(2)\n",
    "\n",
    "\n",
    "clf.fit(np.array(x_values[:train_len]), true_labels[:train_len])"
   ]
  },
  {
   "cell_type": "markdown",
   "metadata": {},
   "source": [
    "## Testing"
   ]
  },
  {
   "cell_type": "code",
   "execution_count": 411,
   "metadata": {},
   "outputs": [],
   "source": [
    "prediction = np.rint(clf.predict(np.array(x_values[train_len:])))\n",
    "correct_count = 0\n",
    "count = 0\n",
    "for j in range(len(prediction)):\n",
    "    if prediction[j] == true_labels[train_len + j]:\n",
    "        correct_count += 1\n",
    "    count += 1"
   ]
  },
  {
   "cell_type": "code",
   "execution_count": 412,
   "metadata": {},
   "outputs": [
    {
     "data": {
      "text/plain": [
       "0.7149321266968326"
      ]
     },
     "execution_count": 412,
     "metadata": {},
     "output_type": "execute_result"
    }
   ],
   "source": [
    "correct_count/count"
   ]
  },
  {
   "cell_type": "markdown",
   "metadata": {},
   "source": [
    "## Lasso Bandits"
   ]
  },
  {
   "cell_type": "code",
   "execution_count": null,
   "metadata": {},
   "outputs": [],
   "source": [
    "# Best: 0.6009049773755656"
   ]
  },
  {
   "cell_type": "code",
   "execution_count": null,
   "metadata": {},
   "outputs": [],
   "source": [
    "# hyper parameters\n",
    "h = 1\n",
    "lambda2_0 = 0.05\n",
    "lambda1 = 0.05\n",
    "lambda2 = lambda2_0"
   ]
  },
  {
   "cell_type": "code",
   "execution_count": 419,
   "metadata": {},
   "outputs": [
    {
     "name": "stdout",
     "output_type": "stream",
     "text": [
      "Iter: 0 Score: 1.0 pi: 1 Regret: 0\n",
      "Iter: 100 Score: 0.6633663366336634 pi: 1 Regret: 34\n",
      "Iter: 200 Score: 0.6467661691542289 pi: 1 Regret: 71\n",
      "Iter: 300 Score: 0.6445182724252492 pi: 1 Regret: 107\n",
      "Iter: 400 Score: 0.6359102244389028 pi: 1 Regret: 146\n",
      "Iter: 500 Score: 0.6307385229540918 pi: 1 Regret: 185\n",
      "Iter: 600 Score: 0.627287853577371 pi: 1 Regret: 224\n",
      "Iter: 700 Score: 0.6191155492154066 pi: 1 Regret: 267\n",
      "Iter: 800 Score: 0.6154806491885143 pi: 1 Regret: 308\n",
      "Iter: 900 Score: 0.6148723640399556 pi: 1 Regret: 347\n",
      "Iter: 1000 Score: 0.6083916083916084 pi: 1 Regret: 392\n",
      "Iter: 1100 Score: 0.6039963669391463 pi: 1 Regret: 436\n",
      "Iter: 1200 Score: 0.6086594504579517 pi: 1 Regret: 470\n",
      "Iter: 1300 Score: 0.6033820138355112 pi: 1 Regret: 516\n",
      "Iter: 1400 Score: 0.6024268379728765 pi: 1 Regret: 557\n",
      "Iter: 1500 Score: 0.6002664890073285 pi: 1 Regret: 600\n",
      "Iter: 1600 Score: 0.5977514053716427 pi: 1 Regret: 644\n",
      "Iter: 1700 Score: 0.5937683715461494 pi: 1 Regret: 691\n",
      "Iter: 1800 Score: 0.5935591338145475 pi: 1 Regret: 732\n",
      "Iter: 1900 Score: 0.5923198316675434 pi: 0 Regret: 775\n",
      "Iter: 2000 Score: 0.5932033983008496 pi: 1 Regret: 814\n",
      "Iter: 2100 Score: 0.5930509281294621 pi: 1 Regret: 855\n",
      "Iter: 2200 Score: 0.5947296683325761 pi: 1 Regret: 892\n",
      "Iter: 2300 Score: 0.5910473707083876 pi: 1 Regret: 941\n",
      "Iter: 2400 Score: 0.5918367346938775 pi: 1 Regret: 980\n",
      "Iter: 2500 Score: 0.5909636145541783 pi: 1 Regret: 1023\n",
      "Iter: 2600 Score: 0.5916955017301038 pi: 1 Regret: 1062\n",
      "Iter: 2700 Score: 0.5860792299148464 pi: 1 Regret: 1118\n",
      "Iter: 2800 Score: 0.5872902534808997 pi: 1 Regret: 1156\n",
      "Iter: 2900 Score: 0.5846259910375733 pi: 1 Regret: 1205\n",
      "Iter: 3000 Score: 0.5814728423858714 pi: 0 Regret: 1256\n",
      "Iter: 3100 Score: 0.582392776523702 pi: 1 Regret: 1295\n",
      "Iter: 3200 Score: 0.5816932208684786 pi: 0 Regret: 1339\n",
      "Iter: 3300 Score: 0.5813389881853983 pi: 1 Regret: 1382\n",
      "Iter: 3400 Score: 0.57953543075566 pi: 0 Regret: 1430\n",
      "Iter: 3500 Score: 0.5789774350185661 pi: 0 Regret: 1474\n",
      "Iter: 3600 Score: 0.5787281310747014 pi: 0 Regret: 1517\n",
      "Iter: 3700 Score: 0.5793028911105107 pi: 1 Regret: 1557\n",
      "Iter: 3800 Score: 0.5787950539331754 pi: 1 Regret: 1601\n",
      "Iter: 3900 Score: 0.5803640092284029 pi: 1 Regret: 1637\n",
      "Iter: 4000 Score: 0.5821044738815296 pi: 1 Regret: 1672\n",
      "Iter: 4100 Score: 0.5820531577663984 pi: 1 Regret: 1714\n",
      "Iter: 4200 Score: 0.5829564389431088 pi: 1 Regret: 1752\n",
      "Iter: 4300 Score: 0.5819576842594746 pi: 0 Regret: 1798\n",
      "Iter: 4400 Score: 0.5816859804589866 pi: 1 Regret: 1841\n"
     ]
    }
   ],
   "source": [
    "T = {0:{\"index\": [], \"x\":[], \"y\":[]}, \n",
    "     1:{\"index\": [], \"x\":[], \"y\":[]}, \n",
    "     2:{\"index\": [], \"x\":[], \"y\":[]}}\n",
    "S = {0:{\"index\": [], \"x\":[], \"y\":[]}, \n",
    "     1:{\"index\": [], \"x\":[], \"y\":[]}, \n",
    "     2:{\"index\": [], \"x\":[], \"y\":[]}}\n",
    "\n",
    "q = 0\n",
    "for i in range(3):\n",
    "    for j in range(q*(i), q*(i+1), 1):\n",
    "        for n in range(11):\n",
    "            index = (2**n - 1)*3*q + j\n",
    "            if index >= train_len: break\n",
    "            T[i][\"index\"].append(index)\n",
    "            T[i][\"x\"].append(x_values[index])\n",
    "            T[i][\"y\"].append(true_labels[index])\n",
    "\n",
    "# train\n",
    "accuracy_list = []\n",
    "regret_list = []\n",
    "pi_ = {}\n",
    "y_ = []\n",
    "for t in range(train_len):\n",
    "    if t in T[0][\"index\"]:\n",
    "        pi_[t] = 0\n",
    "    elif t in T[1][\"index\"]:\n",
    "        pi_[t] = 1\n",
    "    elif t in T[2][\"index\"]:\n",
    "        pi_[t] = 2\n",
    "    else:         \n",
    "        clf = linear_model.Lasso(alpha=lambda1, fit_intercept=False, max_iter=100000)\n",
    "        clf_new = linear_model.Lasso(alpha=lambda2, fit_intercept=False, max_iter=100000)\n",
    "        beta = {}\n",
    "        beta_new = {}\n",
    "        \n",
    "        # select T up to Now\n",
    "        T_curr = {0:{\"index\": [], \"x\":[], \"y\":[]}, \n",
    "                 1:{\"index\": [], \"x\":[], \"y\":[]}, \n",
    "                 2:{\"index\": [], \"x\":[], \"y\":[]}}\n",
    "        for k in range(3):\n",
    "            for i in range(len(T[k][\"index\"])):\n",
    "                if T[k][\"index\"][i] > t: break\n",
    "                T_curr[k][\"index\"].append(T[k][\"index\"][i])\n",
    "                T_curr[k][\"x\"].append(T[k][\"x\"][i])\n",
    "                T_curr[k][\"y\"].append(T[k][\"y\"][i])\n",
    "            \n",
    "        # get betas\n",
    "        for i in range(3):\n",
    "            if len(T_curr[i][\"x\"]) >= 1:\n",
    "                clf.fit(np.array(T_curr[i][\"x\"]), np.array(T_curr[i][\"y\"]))\n",
    "                beta[i] = clf.coef_\n",
    "            else:\n",
    "                beta[i] = np.zeros(len(x_values[t]))\n",
    "            \n",
    "            if len(S[i][\"x\"]) >= 1:\n",
    "                clf_new.fit(np.array(S[i][\"x\"]), np.array(S[i][\"y\"]))\n",
    "                beta_new[i] = clf_new.coef_\n",
    "            else:\n",
    "                beta_new[i] = np.zeros(len(x_values[t]))\n",
    "        \n",
    "        # get K_hat\n",
    "        K = []\n",
    "        max_value = 0\n",
    "        for j in range(3):\n",
    "                val = np.matmul(x_values[t].T, beta[j]) - h/2\n",
    "                if val > max_value:\n",
    "                    max_value = val            \n",
    "        for i in range(3):\n",
    "            if np.matmul(x_values[t].T, beta[i]) >= max_value:\n",
    "                K.append(i)\n",
    "        \n",
    "        # find best arm\n",
    "        max_arm = 0\n",
    "        max_pi_value = 0\n",
    "        for k in K:\n",
    "            val = np.matmul(x_values[t].T, beta_new[k])\n",
    "            if val == max_pi_value:\n",
    "                if np.random.choice(a=[False, True]): max_arm = k\n",
    "            if val > max_pi_value:\n",
    "                max_arm = k\n",
    "                max_pi_value = val\n",
    "        pi_[t] = max_arm\n",
    "    \n",
    "    # update S\n",
    "    S[pi_[t]][\"index\"].append(t)\n",
    "    S[pi_[t]][\"x\"].append(x_values[t])\n",
    "    S[pi_[t]][\"y\"].append(true_labels[t])\n",
    "    \n",
    "    # update lambda\n",
    "    lambda2 = lambda2_0*np.sqrt((np.log(t+1) + np.log(len(x_values[t])))/(t+1))\n",
    "    \n",
    "    #calculate reward\n",
    "    if pi_[t] == true_labels[t]:\n",
    "        y_.append(0)\n",
    "    else:\n",
    "        y_.append(-1)\n",
    "        \n",
    "    if t%100 == 0: \n",
    "        print(\"Iter: \" + str(t) +  \" Score: \" + \\\n",
    "              str((sum(y_) + len(y_))/len(y_))+ \" pi: \" + str(pi_[t])\\\n",
    "             + \" Regret: \" + str(-sum(y_)))\n",
    "    \n",
    "    accuracy_list.append((sum(y_) + len(y_))/len(y_))\n",
    "    regret_list.append(-sum(y_))"
   ]
  },
  {
   "cell_type": "code",
   "execution_count": 402,
   "metadata": {},
   "outputs": [],
   "source": [
    "# test \n",
    "risk = 0\n",
    "correct_count = 0\n",
    "count = 0\n",
    "for t in range(train_len, len(x_values), 1):\n",
    "    count += 1\n",
    "    K = []\n",
    "    max_value = 0\n",
    "    for j in range(3):\n",
    "        val = np.matmul(x_values[t].T, beta[j]) - h/2\n",
    "        if val > max_value:\n",
    "            max_value = val            \n",
    "    for i in range(3):\n",
    "        if np.matmul(x_values[t].T, beta[i]) >= max_value:\n",
    "            K.append(i)\n",
    "        \n",
    "    max_arm = 0\n",
    "    max_pi_value = 0\n",
    "    for k in K:\n",
    "        val = np.matmul(x_values[t].T, beta_new[k])\n",
    "        if val == max_pi_value:\n",
    "            if k == 1: max_arm = k\n",
    "            elif max_arm == 1: max_arm = 1\n",
    "            elif np.random.choice(a=[False, True]): max_arm = k\n",
    "        elif val > max_pi_value:\n",
    "            max_arm = k\n",
    "            max_pi_value = val\n",
    "    \n",
    "    pi_[t] = max_arm\n",
    "    if max_arm == true_labels[t]: correct_count += 1\n",
    "    if (max_arm == 'high' and true_values[i] == 'low') or (max_arm == 'low' and true_values[i] == 'high'):\n",
    "        risk += 1\n",
    "    "
   ]
  },
  {
   "cell_type": "code",
   "execution_count": 403,
   "metadata": {},
   "outputs": [
    {
     "data": {
      "text/plain": [
       "0.0"
      ]
     },
     "execution_count": 403,
     "metadata": {},
     "output_type": "execute_result"
    }
   ],
   "source": [
    "risk/count"
   ]
  },
  {
   "cell_type": "code",
   "execution_count": 404,
   "metadata": {},
   "outputs": [
    {
     "data": {
      "text/plain": [
       "0.5574660633484163"
      ]
     },
     "execution_count": 404,
     "metadata": {},
     "output_type": "execute_result"
    }
   ],
   "source": [
    "correct_count/count"
   ]
  },
  {
   "cell_type": "code",
   "execution_count": null,
   "metadata": {},
   "outputs": [],
   "source": [
    "with open('../results/lasso_regret.pkl', 'wb') as f:\n",
    "    pickle.dump(regret_list, f)\n",
    "with open('../results/lasso_accuracy.pkl', 'wb') as f:\n",
    "    pickle.dump(accuracy_list, f)"
   ]
  }
 ],
 "metadata": {
  "kernelspec": {
   "display_name": "Python 3",
   "language": "python",
   "name": "python3"
  },
  "language_info": {
   "codemirror_mode": {
    "name": "ipython",
    "version": 3
   },
   "file_extension": ".py",
   "mimetype": "text/x-python",
   "name": "python",
   "nbconvert_exporter": "python",
   "pygments_lexer": "ipython3",
   "version": "3.6.5"
  }
 },
 "nbformat": 4,
 "nbformat_minor": 2
}
