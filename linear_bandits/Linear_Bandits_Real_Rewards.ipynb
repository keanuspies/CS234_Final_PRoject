{
 "cells": [
  {
   "cell_type": "markdown",
   "metadata": {},
   "source": [
    "# LinUCB with real rewards and low risk analysis"
   ]
  },
  {
   "cell_type": "code",
   "execution_count": 44,
   "metadata": {},
   "outputs": [],
   "source": [
    "import pandas as pd\n",
    "import pickle\n",
    "import numpy as np\n",
    "import math\n",
    "warf = pd.read_pickle('../data/cleaned_warfarin.pkl')\n",
    "\n",
    "true_dosage = []\n",
    "with open('../data/true_dosage.pkl', 'rb') as f:\n",
    "    true_dosage = pickle.load(f)\n",
    "true_values = []\n",
    "with open('../data/true_labels.pkl', 'rb') as f:\n",
    "    true_values = pickle.load(f)"
   ]
  },
  {
   "cell_type": "code",
   "execution_count": 45,
   "metadata": {
    "scrolled": true
   },
   "outputs": [
    {
     "data": {
      "text/plain": [
       "5528"
      ]
     },
     "execution_count": 45,
     "metadata": {},
     "output_type": "execute_result"
    }
   ],
   "source": [
    "len(warf)"
   ]
  },
  {
   "cell_type": "code",
   "execution_count": 46,
   "metadata": {},
   "outputs": [
    {
     "data": {
      "text/plain": [
       "94"
      ]
     },
     "execution_count": 46,
     "metadata": {},
     "output_type": "execute_result"
    }
   ],
   "source": [
    "len(list(warf))"
   ]
  },
  {
   "cell_type": "code",
   "execution_count": 47,
   "metadata": {},
   "outputs": [],
   "source": [
    "train_len = math.ceil(len(true_values)*0.8)\n",
    "test_len = len(true_values) - train_len"
   ]
  },
  {
   "cell_type": "code",
   "execution_count": 48,
   "metadata": {},
   "outputs": [
    {
     "name": "stdout",
     "output_type": "stream",
     "text": [
      "0.0018099547511312218\n",
      "0.6407239819004525\n",
      "0.0027149321266968325\n",
      "0.5882352941176471\n",
      "0.0018099547511312218\n",
      "0.6190045248868778\n",
      "0.0009049773755656109\n",
      "0.6262443438914027\n",
      "0.0\n",
      "0.6561085972850679\n",
      "0.0036199095022624436\n",
      "0.611764705882353\n",
      "0.0\n",
      "0.6289592760180995\n",
      "0.0009049773755656109\n",
      "0.5963800904977375\n",
      "0.0009049773755656109\n",
      "0.6280542986425339\n",
      "0.0018099547511312218\n",
      "0.6262443438914027\n"
     ]
    }
   ],
   "source": [
    "arms = [\"low\", \"medium\", \"high\"]\n",
    "accuracy = []\n",
    "regret_list = []\n",
    "for j in range(10):\n",
    "    accuracy_list = []\n",
    "    regret_list = []\n",
    "    regret = 0\n",
    "    risk = 0\n",
    "    A_map = {}\n",
    "    b_map = {} \n",
    "    for arm in arms:\n",
    "        A_map[arm] = np.identity(len(list(warf))) \n",
    "        b_map[arm] = np.zeros(len(list(warf)))\n",
    "    \n",
    "    indices = np.random.permutation(list(range(len(warf))))\n",
    "    for i in indices[:train_len]:\n",
    "        feature = np.array(warf.iloc[i], dtype=float)\n",
    "        # iterate through actions\n",
    "        p = {}\n",
    "        max_value = -np.inf\n",
    "        max_arm = \"low\"\n",
    "        for arm in arms:\n",
    "            theta = np.matmul(np.linalg.inv(A_map[arm]), b_map[arm])\n",
    "            p = np.matmul(theta.T, feature) + \\\n",
    "                np.sqrt(np.matmul(np.matmul(feature.T,np.linalg.inv(A_map[arm])), feature))\n",
    "            if p > max_value:\n",
    "                max_value = p\n",
    "                max_arm = arm\n",
    "       \n",
    "        # observe reward and update A and b\n",
    "        if true_values[i] == max_arm: r = 0 \n",
    "        elif max_arm == 'low': r = -np.abs((true_dosage[i] - 14.4478)/4.031703103381195)\n",
    "        elif max_arm == 'medium': r = -np.abs((true_dosage[i] - 31.9729)/7.785291417550073)\n",
    "        else: r = -np.abs((true_dosage[i] - 63.7695)/18.35817976658349)\n",
    "            \n",
    "        if (max_arm == 'high' and true_values[i] == 'low') or (max_arm == 'low' and true_values[i] == 'high'):\n",
    "            r = -100\n",
    "        \n",
    "        regret += 0 if true_values[i] == max_arm else 1\n",
    "        A_map[max_arm] += np.outer(feature, feature) \n",
    "        b_map[max_arm] += r*feature\n",
    "        \n",
    "        accuracy_list.append((i+1 - regret)/(i+1))\n",
    "        regret_list.append(regret)\n",
    "    \n",
    "    correct_count = 0\n",
    "    count = 0\n",
    "    for i in indices[train_len:]:\n",
    "        count += 1\n",
    "        feature = np.array(warf.iloc[i], dtype=float)\n",
    "        # iterate through actions\n",
    "        p = {}\n",
    "        max_value = -np.inf\n",
    "        max_arm = \"low\"\n",
    "        for arm in arms:\n",
    "            theta = np.matmul(np.linalg.inv(A_map[arm]), b_map[arm])\n",
    "            p = np.matmul(theta.T, feature) + \\\n",
    "                    np.sqrt(np.matmul(np.matmul(feature.T,np.linalg.inv(A_map[arm])), feature))\n",
    "            if p > max_value:\n",
    "                max_value = p\n",
    "                max_arm = arm\n",
    "        # observe reward and update A and b\n",
    "        if max_arm == true_values[i]: correct_count += 1\n",
    "        if (max_arm == 'high' and true_values[i] == 'low') or (max_arm == 'low' and true_values[i] == 'high'):\n",
    "            risk += 1\n",
    "    print(correct_count/count)\n",
    "    accuracy.append(correct_count/count)\n",
    "print(risk/count)"
   ]
  },
  {
   "cell_type": "code",
   "execution_count": 49,
   "metadata": {},
   "outputs": [
    {
     "data": {
      "text/plain": [
       "0.6221719457013574"
      ]
     },
     "execution_count": 49,
     "metadata": {},
     "output_type": "execute_result"
    }
   ],
   "source": [
    "np.mean(accuracy)"
   ]
  },
  {
   "cell_type": "code",
   "execution_count": 50,
   "metadata": {},
   "outputs": [
    {
     "data": {
      "text/plain": [
       "1665"
      ]
     },
     "execution_count": 50,
     "metadata": {},
     "output_type": "execute_result"
    }
   ],
   "source": [
    "# 0.6622624434389142\n",
    "regret_list[train_len-1]"
   ]
  },
  {
   "cell_type": "code",
   "execution_count": 51,
   "metadata": {},
   "outputs": [],
   "source": [
    "with open('../results/linucb_real_regret.pkl', 'wb') as f:\n",
    "    pickle.dump(regret_list, f)\n",
    "with open('../results/linucb_real_accuracy.pkl', 'wb') as f:\n",
    "    pickle.dump(accuracy_list, f)"
   ]
  },
  {
   "cell_type": "code",
   "execution_count": null,
   "metadata": {},
   "outputs": [],
   "source": []
  }
 ],
 "metadata": {
  "kernelspec": {
   "display_name": "Python 3",
   "language": "python",
   "name": "python3"
  },
  "language_info": {
   "codemirror_mode": {
    "name": "ipython",
    "version": 3
   },
   "file_extension": ".py",
   "mimetype": "text/x-python",
   "name": "python",
   "nbconvert_exporter": "python",
   "pygments_lexer": "ipython3",
   "version": "3.6.5"
  }
 },
 "nbformat": 4,
 "nbformat_minor": 2
}
