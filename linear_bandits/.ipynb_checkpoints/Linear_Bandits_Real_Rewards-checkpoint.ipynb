{
 "cells": [
  {
   "cell_type": "code",
   "execution_count": 1,
   "metadata": {},
   "outputs": [],
   "source": [
    "import pandas as pd\n",
    "import pickle\n",
    "import numpy as np\n",
    "import math\n",
    "warf = pd.read_pickle('../data/cleaned_warfarin.pkl')\n",
    "\n",
    "true_dosage = []\n",
    "with open('../data/true_dosage.pkl', 'rb') as f:\n",
    "    true_dosage = pickle.load(f)\n",
    "true_values = []\n",
    "with open('../data/true_labels.pkl', 'rb') as f:\n",
    "    true_values = pickle.load(f)"
   ]
  },
  {
   "cell_type": "code",
   "execution_count": 2,
   "metadata": {
    "scrolled": true
   },
   "outputs": [
    {
     "data": {
      "text/plain": [
       "5528"
      ]
     },
     "execution_count": 2,
     "metadata": {},
     "output_type": "execute_result"
    }
   ],
   "source": [
    "len(warf)"
   ]
  },
  {
   "cell_type": "code",
   "execution_count": 3,
   "metadata": {},
   "outputs": [],
   "source": [
    "train_len = math.ceil(len(true_values)*0.8)\n",
    "test_len = len(true_values) - train_len"
   ]
  },
  {
   "cell_type": "code",
   "execution_count": 4,
   "metadata": {},
   "outputs": [
    {
     "data": {
      "text/plain": [
       "4423"
      ]
     },
     "execution_count": 4,
     "metadata": {},
     "output_type": "execute_result"
    }
   ],
   "source": [
    "train_len"
   ]
  },
  {
   "cell_type": "code",
   "execution_count": 5,
   "metadata": {},
   "outputs": [
    {
     "data": {
      "text/plain": [
       "1105"
      ]
     },
     "execution_count": 5,
     "metadata": {},
     "output_type": "execute_result"
    }
   ],
   "source": [
    "test_len"
   ]
  },
  {
   "cell_type": "code",
   "execution_count": 6,
   "metadata": {},
   "outputs": [
    {
     "data": {
      "text/plain": [
       "315.0"
      ]
     },
     "execution_count": 6,
     "metadata": {},
     "output_type": "execute_result"
    }
   ],
   "source": [
    "max(true_dosage)"
   ]
  },
  {
   "cell_type": "code",
   "execution_count": 7,
   "metadata": {},
   "outputs": [],
   "source": [
    "arms = [\"low\", \"medium\", \"high\"]\n",
    "accuracy = []\n",
    "for j in range(5):\n",
    "    A_map = {}\n",
    "    b_map = {} \n",
    "    for arm in arms:\n",
    "        A_map[arm] = np.identity(len(list(warf))-1) \n",
    "        b_map[arm] = np.zeros(len(list(warf))-1)\n",
    "    \n",
    "    indices = np.random.permutation(list(range(len(warf))))\n",
    "    for i in indices[:train_len]:\n",
    "        feature = np.array(warf.iloc[i], dtype=float)[1:]\n",
    "        # iterate through actions\n",
    "        p = {}\n",
    "        max_value = -np.inf\n",
    "        max_arm = \"low\"\n",
    "        for arm in arms:\n",
    "            theta = np.matmul(np.linalg.inv(A_map[arm]), b_map[arm])\n",
    "            p = np.matmul(theta.T, feature) + \\\n",
    "                np.sqrt(np.matmul(np.matmul(feature.T,np.linalg.inv(A_map[arm])), feature))\n",
    "            if p > max_value:\n",
    "                max_value = p\n",
    "                max_arm = arm\n",
    "        # observe reward and update A and b\n",
    "        if true_values[i] == max_arm: r = 0 \n",
    "        elif max_arm == 'low': r = -np.abs(true_dosage[i] - 14.4478)\n",
    "        elif max_arm == 'medium': r = -np.abs(true_dosage[i] - 31.9729)\n",
    "        else: r = -np.abs(true_dosage[i] - 63.7695)\n",
    "#         r = -np.abs(true_dosage[i] - max_value)\n",
    "\n",
    "        A_map[max_arm] += np.outer(feature, feature) \n",
    "        b_map[max_arm] += r*feature\n",
    "    \n",
    "    correct_count = 0\n",
    "    count = 0\n",
    "    for i in indices[train_len:]:\n",
    "        count += 1\n",
    "        feature = np.array(warf.iloc[i], dtype=float)[1:]\n",
    "        # iterate through actions\n",
    "        p = {}\n",
    "        max_value = -np.inf\n",
    "        max_arm = \"low\"\n",
    "        for arm in arms:\n",
    "            theta = np.matmul(np.linalg.inv(A_map[arm]), b_map[arm])\n",
    "            p = np.matmul(theta.T, feature) + \\\n",
    "                    np.sqrt(np.matmul(np.matmul(feature.T,np.linalg.inv(A_map[arm])), feature))\n",
    "            if p > max_value:\n",
    "                max_value = p\n",
    "                max_arm = arm\n",
    "        # observe reward and update A and b\n",
    "        if max_arm == true_values[i]: correct_count += 1\n",
    "    accuracy.append(correct_count/count)"
   ]
  },
  {
   "cell_type": "code",
   "execution_count": 8,
   "metadata": {},
   "outputs": [
    {
     "data": {
      "text/plain": [
       "[0.3592760180995475,\n",
       " 0.19185520361990951,\n",
       " 0.22805429864253393,\n",
       " 0.4153846153846154,\n",
       " 0.19185520361990951]"
      ]
     },
     "execution_count": 8,
     "metadata": {},
     "output_type": "execute_result"
    }
   ],
   "source": [
    "accuracy"
   ]
  },
  {
   "cell_type": "code",
   "execution_count": null,
   "metadata": {},
   "outputs": [],
   "source": []
  }
 ],
 "metadata": {
  "kernelspec": {
   "display_name": "Python 3",
   "language": "python",
   "name": "python3"
  },
  "language_info": {
   "codemirror_mode": {
    "name": "ipython",
    "version": 3
   },
   "file_extension": ".py",
   "mimetype": "text/x-python",
   "name": "python",
   "nbconvert_exporter": "python",
   "pygments_lexer": "ipython3",
   "version": "3.6.5"
  }
 },
 "nbformat": 4,
 "nbformat_minor": 2
}
