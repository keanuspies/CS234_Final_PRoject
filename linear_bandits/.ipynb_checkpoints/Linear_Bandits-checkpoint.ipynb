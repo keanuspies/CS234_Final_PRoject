{
 "cells": [
  {
   "cell_type": "code",
   "execution_count": 1,
   "metadata": {},
   "outputs": [],
   "source": [
    "import pandas as pd\n",
    "import pickle\n",
    "import numpy as np\n",
    "warf = pd.read_pickle('../data/cleaned_warfarin.pkl')\n",
    "\n",
    "true_values = []\n",
    "with open('../data/true_labels.pkl', 'rb') as f:\n",
    "    true_values = pickle.load(f)"
   ]
  },
  {
   "cell_type": "code",
   "execution_count": 2,
   "metadata": {
    "scrolled": true
   },
   "outputs": [
    {
     "data": {
      "text/plain": [
       "4417"
      ]
     },
     "execution_count": 2,
     "metadata": {},
     "output_type": "execute_result"
    }
   ],
   "source": [
    "len(warf)"
   ]
  },
  {
   "cell_type": "code",
   "execution_count": 7,
   "metadata": {},
   "outputs": [
    {
     "data": {
      "text/plain": [
       "884"
      ]
     },
     "execution_count": 7,
     "metadata": {},
     "output_type": "execute_result"
    }
   ],
   "source": [
    "len(true_values) - 3533"
   ]
  },
  {
   "cell_type": "code",
   "execution_count": 4,
   "metadata": {},
   "outputs": [
    {
     "data": {
      "text/plain": [
       "3533.6000000000004"
      ]
     },
     "execution_count": 4,
     "metadata": {},
     "output_type": "execute_result"
    }
   ],
   "source": [
    "len(true_values)*0.80"
   ]
  },
  {
   "cell_type": "code",
   "execution_count": 5,
   "metadata": {},
   "outputs": [],
   "source": [
    "arms = [\"low\", \"medium\", \"high\"]\n",
    "accuracy = []\n",
    "for j in range(10):\n",
    "    A_map = {}\n",
    "    b_map = {} \n",
    "    for arm in arms:\n",
    "        A_map[arm] = np.identity(len(list(warf))-1) \n",
    "        b_map[arm] = np.zeros(len(list(warf))-1)\n",
    "    \n",
    "    indices = np.random.permutation(list(range(3534)))\n",
    "    for i in indices:\n",
    "        feature = np.array(warf.iloc[i], dtype=float)[1:]\n",
    "        # iterate through actions\n",
    "        p = {}\n",
    "        max_value = -np.inf\n",
    "        max_arm = \"low\"\n",
    "        for arm in arms:\n",
    "            theta = np.matmul(np.linalg.inv(A_map[arm]), b_map[arm])\n",
    "            p = np.matmul(theta.T, feature) + \\\n",
    "                np.sqrt(np.matmul(np.matmul(feature.T,np.linalg.inv(A_map[arm])), feature))\n",
    "            if p > max_value:\n",
    "                max_value = p\n",
    "                max_arm = arm\n",
    "        # observe reward and update A and b\n",
    "        r = 0 if max_arm == true_values[i] else -1\n",
    "        A_map[max_arm] += np.outer(feature, feature) \n",
    "        b_map[max_arm] += r*feature\n",
    "    \n",
    "    correct_count = 0\n",
    "    for i in range(3534, len(warf), 1):\n",
    "        feature = np.array(warf.iloc[i], dtype=float)[1:]\n",
    "        # iterate through actions\n",
    "        p = {}\n",
    "        max_value = -np.inf\n",
    "        max_arm = \"low\"\n",
    "        for arm in arms:\n",
    "            theta = np.matmul(np.linalg.inv(A_map[arm]), b_map[arm])\n",
    "            p = np.matmul(theta.T, feature) + \\\n",
    "                    np.sqrt(np.matmul(np.matmul(feature.T,np.linalg.inv(A_map[arm])), feature))\n",
    "            if p > max_value:\n",
    "                max_value = p\n",
    "                max_arm = arm\n",
    "        # observe reward and update A and b\n",
    "        if max_arm == true_values[i]: correct_count += 1\n",
    "    accuracy.append(correct_count/884)"
   ]
  },
  {
   "cell_type": "code",
   "execution_count": 6,
   "metadata": {},
   "outputs": [
    {
     "data": {
      "text/plain": [
       "[0.1073126556486303,\n",
       " 0.12406610821824768,\n",
       " 0.09486076522526601,\n",
       " 0.10436948154856238,\n",
       " 0.09418157120217342,\n",
       " 0.10097351143309939,\n",
       " 0.0996151233869142,\n",
       " 0.10935023771790808,\n",
       " 0.10006791940230926,\n",
       " 0.11704776997962418]"
      ]
     },
     "execution_count": 6,
     "metadata": {},
     "output_type": "execute_result"
    }
   ],
   "source": [
    "accuracy"
   ]
  },
  {
   "cell_type": "code",
   "execution_count": null,
   "metadata": {},
   "outputs": [],
   "source": []
  }
 ],
 "metadata": {
  "kernelspec": {
   "display_name": "Python 3",
   "language": "python",
   "name": "python3"
  },
  "language_info": {
   "codemirror_mode": {
    "name": "ipython",
    "version": 3
   },
   "file_extension": ".py",
   "mimetype": "text/x-python",
   "name": "python",
   "nbconvert_exporter": "python",
   "pygments_lexer": "ipython3",
   "version": "3.6.5"
  }
 },
 "nbformat": 4,
 "nbformat_minor": 2
}
