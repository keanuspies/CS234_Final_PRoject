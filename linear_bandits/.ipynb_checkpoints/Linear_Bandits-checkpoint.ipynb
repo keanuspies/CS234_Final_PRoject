{
 "cells": [
  {
   "cell_type": "markdown",
   "metadata": {},
   "source": [
    "# LinUCB"
   ]
  },
  {
   "cell_type": "code",
   "execution_count": 25,
   "metadata": {},
   "outputs": [],
   "source": [
    "import pandas as pd\n",
    "import pickle\n",
    "import numpy as np\n",
    "import math\n",
    "warf = pd.read_pickle('../data/cleaned_warfarin.pkl')\n",
    "\n",
    "true_values = []\n",
    "with open('../data/true_labels.pkl', 'rb') as f:\n",
    "    true_values = pickle.load(f)"
   ]
  },
  {
   "cell_type": "code",
   "execution_count": 26,
   "metadata": {
    "scrolled": true
   },
   "outputs": [
    {
     "data": {
      "text/plain": [
       "5528"
      ]
     },
     "execution_count": 26,
     "metadata": {},
     "output_type": "execute_result"
    }
   ],
   "source": [
    "len(warf)"
   ]
  },
  {
   "cell_type": "code",
   "execution_count": 27,
   "metadata": {},
   "outputs": [
    {
     "data": {
      "text/plain": [
       "92"
      ]
     },
     "execution_count": 27,
     "metadata": {},
     "output_type": "execute_result"
    }
   ],
   "source": [
    "len(list(warf))"
   ]
  },
  {
   "cell_type": "code",
   "execution_count": 28,
   "metadata": {},
   "outputs": [],
   "source": [
    "train_len = math.ceil(len(true_values)*0.95)\n",
    "test_len = len(true_values) - train_len"
   ]
  },
  {
   "cell_type": "code",
   "execution_count": 29,
   "metadata": {},
   "outputs": [],
   "source": [
    "arms = [\"low\", \"medium\", \"high\"]\n",
    "accuracy = []\n",
    "regrets = []\n",
    "for j in range(10):\n",
    "    regret = 0\n",
    "    A_map = {}\n",
    "    b_map = {} \n",
    "    for arm in arms:\n",
    "        A_map[arm] = np.identity(len(list(warf))-1) \n",
    "        b_map[arm] = np.zeros(len(list(warf))-1)\n",
    "    \n",
    "    indices = np.random.permutation(list(range(len(warf))))\n",
    "    for i in indices[:train_len]:\n",
    "        feature = np.array(warf.iloc[i], dtype=float)[1:]\n",
    "        \n",
    "        # iterate through actions\n",
    "        p = {}\n",
    "        max_value = -np.inf\n",
    "        max_arm = \"low\"\n",
    "        for arm in arms:\n",
    "            theta = np.matmul(np.linalg.inv(A_map[arm]), b_map[arm])\n",
    "            p = np.matmul(theta.T, feature) + \\\n",
    "                np.sqrt(np.matmul(np.matmul(feature.T,np.linalg.inv(A_map[arm])), feature))\n",
    "            \n",
    "            if p == max_value:\n",
    "                if np.random.choice(a=[False, True]): max_arm = arm\n",
    "            elif p > max_value:\n",
    "                max_value = p\n",
    "                max_arm = arm\n",
    "        \n",
    "        # observe reward and update A and b\n",
    "        r = 0 if max_arm == true_values[i] else -1\n",
    "        regret -= r\n",
    "        A_map[max_arm] += np.outer(feature, feature) \n",
    "        b_map[max_arm] += r*feature\n",
    "    \n",
    "    regrets.append(regret)\n",
    "    correct_count = 0\n",
    "    count = 0\n",
    "    for i in indices[train_len:]:\n",
    "        count += 1\n",
    "        feature = np.array(warf.iloc[i], dtype=float)[1:]\n",
    "        # iterate through actions\n",
    "        p = {}\n",
    "        max_value = -np.inf\n",
    "        max_arm = \"low\"\n",
    "        for arm in arms:\n",
    "            theta = np.matmul(np.linalg.inv(A_map[arm]), b_map[arm])\n",
    "            p = np.matmul(theta.T, feature) + \\\n",
    "                    np.sqrt(np.matmul(np.matmul(feature.T,np.linalg.inv(A_map[arm])), feature))\n",
    "            if p == max_value:\n",
    "                if np.random.choice(a=[False, True]): max_arm = arm\n",
    "            elif p > max_value:\n",
    "                max_value = p\n",
    "                max_arm = arm\n",
    "        # observe reward and update A and b\n",
    "        if max_arm == true_values[i]: correct_count += 1\n",
    "    accuracy.append(correct_count/count)"
   ]
  },
  {
   "cell_type": "code",
   "execution_count": 30,
   "metadata": {},
   "outputs": [
    {
     "data": {
      "text/plain": [
       "0.6865942028985506"
      ]
     },
     "execution_count": 30,
     "metadata": {},
     "output_type": "execute_result"
    }
   ],
   "source": [
    "np.mean(accuracy)"
   ]
  },
  {
   "cell_type": "code",
   "execution_count": null,
   "metadata": {},
   "outputs": [],
   "source": []
  }
 ],
 "metadata": {
  "kernelspec": {
   "display_name": "Python 3",
   "language": "python",
   "name": "python3"
  },
  "language_info": {
   "codemirror_mode": {
    "name": "ipython",
    "version": 3
   },
   "file_extension": ".py",
   "mimetype": "text/x-python",
   "name": "python",
   "nbconvert_exporter": "python",
   "pygments_lexer": "ipython3",
   "version": "3.6.5"
  }
 },
 "nbformat": 4,
 "nbformat_minor": 2
}
