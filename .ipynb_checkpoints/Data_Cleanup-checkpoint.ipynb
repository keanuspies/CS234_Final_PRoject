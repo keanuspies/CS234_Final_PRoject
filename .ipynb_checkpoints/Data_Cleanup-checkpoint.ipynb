{
 "cells": [
  {
   "cell_type": "code",
   "execution_count": 1,
   "metadata": {},
   "outputs": [],
   "source": [
    "import pandas as pd\n",
    "import pickle\n",
    "import copy\n",
    "warf = pd.read_csv('data/warfarin.csv')"
   ]
  },
  {
   "cell_type": "code",
   "execution_count": 2,
   "metadata": {},
   "outputs": [],
   "source": [
    "dummies = ['Gender', \n",
    "           'Race', \n",
    "           'Ethnicity', \n",
    "           'Age',\n",
    "           'Cyp2C9 genotypes',\n",
    "           'VKORC1 genotype: -1639 G>A (3673); chr16:31015190; rs9923231; C/T',\n",
    "           'VKORC1 genotype: 497T>G (5808); chr16:31013055; rs2884737; A/C',    \n",
    "           'VKORC1 genotype: 1542G>C (6853); chr16:31012010; rs8050894; C/G',\n",
    "           'VKORC1 genotype: 3730 G>A (9041); chr16:31009822; rs7294;  A/G']\n",
    "remove_the_na = ['Rifampin or Rifampicin', 'Macrolide Antibiotics']\n",
    "remove_the_val = ['Cerivastatin (Baycol)']\n",
    "dummies_val_and_na = ['Diabetes', \n",
    "                      'Congestive Heart Failure and/or Cardiomyopathy',\n",
    "                      'Valve Replacement', \n",
    "                      'Aspirin',\n",
    "                      'Acetaminophen or Paracetamol (Tylenol)',\n",
    "                      'Was Dose of Acetaminophen or Paracetamol (Tylenol) >1300mg/day',\n",
    "                      'Simvastatin (Zocor)',\n",
    "                      'Atorvastatin (Lipitor)',\n",
    "                      'Fluvastatin (Lescol)',\n",
    "                      'Lovastatin (Mevacor)',\n",
    "                      'Pravastatin (Pravachol)',\n",
    "                      'Rosuvastatin (Crestor)',\n",
    "                      'Amiodarone (Cordarone)',\n",
    "                      'Carbamazepine (Tegretol)',\n",
    "                      'Phenytoin (Dilantin)',\n",
    "                      'Sulfonamide Antibiotics',\n",
    "                      'Anti-fungal Azoles',\n",
    "                      'Herbal Medications, Vitamins, Supplements',\n",
    "                      'Current Smoker']\n",
    "height_and_weight = ['Height (cm)', \n",
    "                      'Weight (kg)']\n",
    "\n",
    "cols = copy.deepcopy(dummies)\n",
    "# cols.extend(dummies_with_na)\n",
    "cols.extend(remove_the_na)\n",
    "cols.extend(remove_the_val)\n",
    "cols.extend(dummies_val_and_na)\n",
    "cols.extend(height_and_weight)\n",
    "cols.append(\"Therapeutic Dose of Warfarin\")\n",
    "cols.append('Indication for Warfarin Treatment')\n",
    "warf = warf[cols]"
   ]
  },
  {
   "cell_type": "code",
   "execution_count": 3,
   "metadata": {},
   "outputs": [],
   "source": [
    "# ones with no NA\n",
    "warf = pd.get_dummies(warf, prefix=dummies, columns=dummies, dummy_na=False)\n",
    "# ones with NA\n",
    "# warf = pd.get_dummies(warf, prefix=dummies_with_na, columns=dummies_with_na,dummy_na=True )\n",
    "cols = list(warf)\n",
    "cols.remove('Race_Unknown')\n",
    "cols.remove('Ethnicity_Unknown')\n",
    "warf = warf[cols]"
   ]
  },
  {
   "cell_type": "code",
   "execution_count": 4,
   "metadata": {},
   "outputs": [
    {
     "data": {
      "text/plain": [
       "5528"
      ]
     },
     "execution_count": 4,
     "metadata": {},
     "output_type": "execute_result"
    }
   ],
   "source": [
    "for col in remove_the_na:\n",
    "    warf[col] = warf.fillna(0)[col]\n",
    "for col in height_and_weight:\n",
    "    warf[col] = warf.fillna(0)[col]\n",
    "warf = warf.fillna('Unknown')\n",
    "warf = warf.loc[warf[\"Therapeutic Dose of Warfarin\"] != 'Unknown']\n",
    "warf = warf.reset_index(drop=True)\n",
    "\n",
    "true_value_numbers = warf[\"Therapeutic Dose of Warfarin\"]\n",
    "with open('data/true_dosage.pkl', 'wb') as f:\n",
    "    pickle.dump(true_value_numbers, f)\n",
    "len(warf)"
   ]
  },
  {
   "cell_type": "code",
   "execution_count": 5,
   "metadata": {},
   "outputs": [],
   "source": [
    "for col in remove_the_val: \n",
    "    warf[col] = warf[col] == 'Unknown'"
   ]
  },
  {
   "cell_type": "code",
   "execution_count": 6,
   "metadata": {},
   "outputs": [],
   "source": [
    "warf = pd.get_dummies(warf, prefix=dummies_val_and_na, columns=dummies_val_and_na)\n",
    "cols = list(warf)\n",
    "for col in dummies_val_and_na:  \n",
    "    cols.remove(col + '_0.0')\n",
    "\n",
    "warf = warf[cols]"
   ]
  },
  {
   "cell_type": "code",
   "execution_count": 7,
   "metadata": {},
   "outputs": [],
   "source": [
    "for col in height_and_weight:\n",
    "    warf[col + '_NA'] = warf[col] == 0\n",
    "#     warf[col] = (warf[col] - warf[col].mean())/warf[col].std()"
   ]
  },
  {
   "cell_type": "code",
   "execution_count": 8,
   "metadata": {},
   "outputs": [],
   "source": [
    "list(warf)\n",
    "for i in range(1, 9, 1):\n",
    "    warf['Indication for Warfarin Treatment' + '_' + str(i)] = \\\n",
    "    warf['Indication for Warfarin Treatment'].str.contains(str(i))\n",
    "warf['Indication for Warfarin Treatment' + '_NA'] = warf['Indication for Warfarin Treatment'] == \"Unknown\""
   ]
  },
  {
   "cell_type": "code",
   "execution_count": 9,
   "metadata": {},
   "outputs": [],
   "source": [
    "cols = list(warf)\n",
    "cols.remove('Indication for Warfarin Treatment')\n",
    "warf = warf[cols]"
   ]
  },
  {
   "cell_type": "markdown",
   "metadata": {},
   "source": [
    "Save the true dosage values"
   ]
  },
  {
   "cell_type": "code",
   "execution_count": 10,
   "metadata": {},
   "outputs": [],
   "source": [
    "warf[\"Therapeutic Dose of Warfarin\"] = pd.cut(warf[\"Therapeutic Dose of Warfarin\"]\\\n",
    "                                              , [0.0,20.9999,49.0,20000.0]).astype(str)\n",
    "warf[\"Therapeutic Dose of Warfarin\"] = warf[\"Therapeutic Dose of Warfarin\"].map({'(0.0, 21.0]': \"low\", '(21.0, 49.0]': \"medium\", '(49.0, 20000.0]': \"high\"})\n",
    "\n",
    "warf[\"Therapeutic Dose of Warfarin\"].value_counts()\n",
    "true_values = warf['Therapeutic Dose of Warfarin']\n",
    "warf[\"Therapeutic Dose of Warfarin\"] = warf[\"Therapeutic Dose of Warfarin\"].map({\"low\": 0, \"medium\":1, \"high\":2})\n",
    "# warf = warf.drop(columns='Therapeutic Dose of Warfarin')"
   ]
  },
  {
   "cell_type": "markdown",
   "metadata": {},
   "source": [
    "Change the data to suit categories etc."
   ]
  },
  {
   "cell_type": "code",
   "execution_count": 11,
   "metadata": {},
   "outputs": [],
   "source": [
    "cols = [\n",
    "    'Rifampin or Rifampicin',\n",
    "#  'Macrolide Antibiotics',\n",
    "#  'Cerivastatin (Baycol)',\n",
    " 'Height (cm)',\n",
    " 'Weight (kg)',\n",
    "# 'Height (cm)_NA',\n",
    "#     'Weight (kg)_NA',\n",
    " 'Gender_female',\n",
    " 'Gender_male',\n",
    " 'Race_Asian',\n",
    " 'Race_Black or African American',\n",
    " 'Race_White',\n",
    " 'Ethnicity_Hispanic or Latino',\n",
    " 'Ethnicity_not Hispanic or Latino',\n",
    " 'Age_10 - 19',\n",
    " 'Age_20 - 29',\n",
    " 'Age_30 - 39',\n",
    " 'Age_40 - 49',\n",
    " 'Age_50 - 59',\n",
    " 'Age_60 - 69',\n",
    " 'Age_70 - 79',\n",
    " 'Age_80 - 89',\n",
    " 'Age_90+',\n",
    "#  'Cyp2C9 genotypes_*1/*1',\n",
    "#  'Cyp2C9 genotypes_*1/*11',\n",
    "#  'Cyp2C9 genotypes_*1/*13',\n",
    "#  'Cyp2C9 genotypes_*1/*14',\n",
    " 'Cyp2C9 genotypes_*1/*2',\n",
    " 'Cyp2C9 genotypes_*1/*3',\n",
    "#  'Cyp2C9 genotypes_*1/*5',\n",
    "#  'Cyp2C9 genotypes_*1/*6',\n",
    " 'Cyp2C9 genotypes_*2/*2',\n",
    " 'Cyp2C9 genotypes_*2/*3',\n",
    " 'Cyp2C9 genotypes_*3/*3',\n",
    " 'VKORC1 genotype: -1639 G>A (3673); chr16:31015190; rs9923231; C/T_A/A',\n",
    " 'VKORC1 genotype: -1639 G>A (3673); chr16:31015190; rs9923231; C/T_A/G',\n",
    " 'VKORC1 genotype: -1639 G>A (3673); chr16:31015190; rs9923231; C/T_G/G',\n",
    "#  'VKORC1 genotype: 497T>G (5808); chr16:31013055; rs2884737; A/C_G/G',\n",
    "#  'VKORC1 genotype: 497T>G (5808); chr16:31013055; rs2884737; A/C_G/T',\n",
    "#  'VKORC1 genotype: 497T>G (5808); chr16:31013055; rs2884737; A/C_T/T',\n",
    "#  'VKORC1 genotype: 1542G>C (6853); chr16:31012010; rs8050894; C/G_C/C',\n",
    "#  'VKORC1 genotype: 1542G>C (6853); chr16:31012010; rs8050894; C/G_C/G',\n",
    "#  'VKORC1 genotype: 1542G>C (6853); chr16:31012010; rs8050894; C/G_G/G',\n",
    "#  'VKORC1 genotype: 3730 G>A (9041); chr16:31009822; rs7294;  A/G_A/A',\n",
    "#  'VKORC1 genotype: 3730 G>A (9041); chr16:31009822; rs7294;  A/G_A/G',\n",
    "#  'VKORC1 genotype: 3730 G>A (9041); chr16:31009822; rs7294;  A/G_G/G',\n",
    "#  'Diabetes_1.0',\n",
    "#  'Diabetes_Unknown',\n",
    "#  'Congestive Heart Failure and/or Cardiomyopathy_1.0',\n",
    "#  'Congestive Heart Failure and/or Cardiomyopathy_Unknown',\n",
    "#  'Valve Replacement_1.0',\n",
    "#  'Valve Replacement_Unknown',\n",
    "#  'Aspirin_1.0',\n",
    "#  'Aspirin_Unknown',\n",
    "#  'Acetaminophen or Paracetamol (Tylenol)_1.0',\n",
    "#  'Acetaminophen or Paracetamol (Tylenol)_Unknown',\n",
    "#  'Was Dose of Acetaminophen or Paracetamol (Tylenol) >1300mg/day_1.0',\n",
    "#  'Was Dose of Acetaminophen or Paracetamol (Tylenol) >1300mg/day_Unknown',\n",
    "#  'Simvastatin (Zocor)_1.0',\n",
    "#  'Simvastatin (Zocor)_Unknown',\n",
    "#  'Atorvastatin (Lipitor)_1.0',\n",
    "#  'Atorvastatin (Lipitor)_Unknown',\n",
    "#  'Fluvastatin (Lescol)_1.0',\n",
    "#  'Fluvastatin (Lescol)_Unknown',\n",
    "#  'Lovastatin (Mevacor)_1.0',\n",
    "#  'Lovastatin (Mevacor)_Unknown',\n",
    "#  'Pravastatin (Pravachol)_1.0',\n",
    "#  'Pravastatin (Pravachol)_Unknown',\n",
    "#  'Rosuvastatin (Crestor)_1.0',\n",
    "#  'Rosuvastatin (Crestor)_Unknown',\n",
    " 'Amiodarone (Cordarone)_1.0',\n",
    " 'Amiodarone (Cordarone)_Unknown',\n",
    " 'Carbamazepine (Tegretol)_1.0',\n",
    " 'Carbamazepine (Tegretol)_Unknown',\n",
    " 'Phenytoin (Dilantin)_1.0',\n",
    " 'Phenytoin (Dilantin)_Unknown',\n",
    "#  'Sulfonamide Antibiotics_1.0',\n",
    "#  'Sulfonamide Antibiotics_Unknown',\n",
    "#  'Anti-fungal Azoles_1.0',\n",
    "#  'Anti-fungal Azoles_Unknown',\n",
    "#  'Herbal Medications, Vitamins, Supplements_1.0',\n",
    "#  'Herbal Medications, Vitamins, Supplements_Unknown',\n",
    "#  'Current Smoker_1.0',\n",
    "#  'Current Smoker_Unknown',\n",
    "#  'Indication for Warfarin Treatment_1',\n",
    "#  'Indication for Warfarin Treatment_2',\n",
    "#  'Indication for Warfarin Treatment_3',\n",
    "#  'Indication for Warfarin Treatment_4',\n",
    "#  'Indication for Warfarin Treatment_5',\n",
    "#  'Indication for Warfarin Treatment_6',\n",
    "#  'Indication for Warfarin Treatment_7',\n",
    "#  'Indication for Warfarin Treatment_8',\n",
    "#  'Indication for Warfarin Treatment_NA'\n",
    "]\n",
    "warf['Bias'] = 1 \n",
    "cols.append('Bias')\n",
    "warf = warf[cols]"
   ]
  },
  {
   "cell_type": "code",
   "execution_count": 12,
   "metadata": {},
   "outputs": [],
   "source": [
    "warf.to_pickle('data/cleaned_warfarin.pkl')\n",
    "with open('data/true_labels.pkl', 'wb') as f:\n",
    "    pickle.dump(true_values, f)"
   ]
  },
  {
   "cell_type": "code",
   "execution_count": 13,
   "metadata": {
    "scrolled": true
   },
   "outputs": [
    {
     "data": {
      "text/plain": [
       "94"
      ]
     },
     "execution_count": 13,
     "metadata": {},
     "output_type": "execute_result"
    }
   ],
   "source": [
    "len(list(warf))"
   ]
  },
  {
   "cell_type": "code",
   "execution_count": 14,
   "metadata": {
    "scrolled": true
   },
   "outputs": [
    {
     "data": {
      "text/plain": [
       "['Rifampin or Rifampicin',\n",
       " 'Macrolide Antibiotics',\n",
       " 'Cerivastatin (Baycol)',\n",
       " 'Height (cm)',\n",
       " 'Weight (kg)',\n",
       " 'Height (cm)_NA',\n",
       " 'Weight (kg)_NA',\n",
       " 'Gender_female',\n",
       " 'Gender_male',\n",
       " 'Race_Asian',\n",
       " 'Race_Black or African American',\n",
       " 'Race_White',\n",
       " 'Ethnicity_Hispanic or Latino',\n",
       " 'Ethnicity_not Hispanic or Latino',\n",
       " 'Age_10 - 19',\n",
       " 'Age_20 - 29',\n",
       " 'Age_30 - 39',\n",
       " 'Age_40 - 49',\n",
       " 'Age_50 - 59',\n",
       " 'Age_60 - 69',\n",
       " 'Age_70 - 79',\n",
       " 'Age_80 - 89',\n",
       " 'Age_90+',\n",
       " 'Cyp2C9 genotypes_*1/*1',\n",
       " 'Cyp2C9 genotypes_*1/*11',\n",
       " 'Cyp2C9 genotypes_*1/*13',\n",
       " 'Cyp2C9 genotypes_*1/*14',\n",
       " 'Cyp2C9 genotypes_*1/*2',\n",
       " 'Cyp2C9 genotypes_*1/*3',\n",
       " 'Cyp2C9 genotypes_*1/*5',\n",
       " 'Cyp2C9 genotypes_*1/*6',\n",
       " 'Cyp2C9 genotypes_*2/*2',\n",
       " 'Cyp2C9 genotypes_*2/*3',\n",
       " 'Cyp2C9 genotypes_*3/*3',\n",
       " 'VKORC1 genotype: -1639 G>A (3673); chr16:31015190; rs9923231; C/T_A/A',\n",
       " 'VKORC1 genotype: -1639 G>A (3673); chr16:31015190; rs9923231; C/T_A/G',\n",
       " 'VKORC1 genotype: -1639 G>A (3673); chr16:31015190; rs9923231; C/T_G/G',\n",
       " 'VKORC1 genotype: 497T>G (5808); chr16:31013055; rs2884737; A/C_G/G',\n",
       " 'VKORC1 genotype: 497T>G (5808); chr16:31013055; rs2884737; A/C_G/T',\n",
       " 'VKORC1 genotype: 497T>G (5808); chr16:31013055; rs2884737; A/C_T/T',\n",
       " 'VKORC1 genotype: 1542G>C (6853); chr16:31012010; rs8050894; C/G_C/C',\n",
       " 'VKORC1 genotype: 1542G>C (6853); chr16:31012010; rs8050894; C/G_C/G',\n",
       " 'VKORC1 genotype: 1542G>C (6853); chr16:31012010; rs8050894; C/G_G/G',\n",
       " 'VKORC1 genotype: 3730 G>A (9041); chr16:31009822; rs7294;  A/G_A/A',\n",
       " 'VKORC1 genotype: 3730 G>A (9041); chr16:31009822; rs7294;  A/G_A/G',\n",
       " 'VKORC1 genotype: 3730 G>A (9041); chr16:31009822; rs7294;  A/G_G/G',\n",
       " 'Diabetes_1.0',\n",
       " 'Diabetes_Unknown',\n",
       " 'Congestive Heart Failure and/or Cardiomyopathy_1.0',\n",
       " 'Congestive Heart Failure and/or Cardiomyopathy_Unknown',\n",
       " 'Valve Replacement_1.0',\n",
       " 'Valve Replacement_Unknown',\n",
       " 'Aspirin_1.0',\n",
       " 'Aspirin_Unknown',\n",
       " 'Acetaminophen or Paracetamol (Tylenol)_1.0',\n",
       " 'Acetaminophen or Paracetamol (Tylenol)_Unknown',\n",
       " 'Was Dose of Acetaminophen or Paracetamol (Tylenol) >1300mg/day_1.0',\n",
       " 'Was Dose of Acetaminophen or Paracetamol (Tylenol) >1300mg/day_Unknown',\n",
       " 'Simvastatin (Zocor)_1.0',\n",
       " 'Simvastatin (Zocor)_Unknown',\n",
       " 'Atorvastatin (Lipitor)_1.0',\n",
       " 'Atorvastatin (Lipitor)_Unknown',\n",
       " 'Fluvastatin (Lescol)_1.0',\n",
       " 'Fluvastatin (Lescol)_Unknown',\n",
       " 'Lovastatin (Mevacor)_1.0',\n",
       " 'Lovastatin (Mevacor)_Unknown',\n",
       " 'Pravastatin (Pravachol)_1.0',\n",
       " 'Pravastatin (Pravachol)_Unknown',\n",
       " 'Rosuvastatin (Crestor)_1.0',\n",
       " 'Rosuvastatin (Crestor)_Unknown',\n",
       " 'Amiodarone (Cordarone)_1.0',\n",
       " 'Amiodarone (Cordarone)_Unknown',\n",
       " 'Carbamazepine (Tegretol)_1.0',\n",
       " 'Carbamazepine (Tegretol)_Unknown',\n",
       " 'Phenytoin (Dilantin)_1.0',\n",
       " 'Phenytoin (Dilantin)_Unknown',\n",
       " 'Sulfonamide Antibiotics_1.0',\n",
       " 'Sulfonamide Antibiotics_Unknown',\n",
       " 'Anti-fungal Azoles_1.0',\n",
       " 'Anti-fungal Azoles_Unknown',\n",
       " 'Herbal Medications, Vitamins, Supplements_1.0',\n",
       " 'Herbal Medications, Vitamins, Supplements_Unknown',\n",
       " 'Current Smoker_1.0',\n",
       " 'Current Smoker_Unknown',\n",
       " 'Indication for Warfarin Treatment_1',\n",
       " 'Indication for Warfarin Treatment_2',\n",
       " 'Indication for Warfarin Treatment_3',\n",
       " 'Indication for Warfarin Treatment_4',\n",
       " 'Indication for Warfarin Treatment_5',\n",
       " 'Indication for Warfarin Treatment_6',\n",
       " 'Indication for Warfarin Treatment_7',\n",
       " 'Indication for Warfarin Treatment_8',\n",
       " 'Indication for Warfarin Treatment_NA',\n",
       " 'Bias']"
      ]
     },
     "execution_count": 14,
     "metadata": {},
     "output_type": "execute_result"
    }
   ],
   "source": [
    "list(warf)"
   ]
  },
  {
   "cell_type": "code",
   "execution_count": null,
   "metadata": {},
   "outputs": [],
   "source": []
  }
 ],
 "metadata": {
  "kernelspec": {
   "display_name": "Python 3",
   "language": "python",
   "name": "python3"
  },
  "language_info": {
   "codemirror_mode": {
    "name": "ipython",
    "version": 3
   },
   "file_extension": ".py",
   "mimetype": "text/x-python",
   "name": "python",
   "nbconvert_exporter": "python",
   "pygments_lexer": "ipython3",
   "version": "3.6.5"
  }
 },
 "nbformat": 4,
 "nbformat_minor": 2
}
